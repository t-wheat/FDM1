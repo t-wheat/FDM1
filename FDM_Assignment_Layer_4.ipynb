{
  "cells": [
    {
      "cell_type": "code",
      "source": [
        "# Get Information on where your file system is located (there may be a way to get the full path, as it is /content/mydata/MyDrive)\n",
        "import os\n",
        "os.getcwd()"
      ],
      "metadata": {
        "colab": {
          "base_uri": "https://localhost:8080/",
          "height": 36
        },
        "id": "fYyzsCPr8p26",
        "outputId": "41b9b93f-195c-4c20-9559-872abd853616"
      },
      "id": "fYyzsCPr8p26",
      "execution_count": null,
      "outputs": [
        {
          "output_type": "execute_result",
          "data": {
            "text/plain": [
              "'/content'"
            ],
            "application/vnd.google.colaboratory.intrinsic+json": {
              "type": "string"
            }
          },
          "metadata": {},
          "execution_count": 2
        }
      ]
    },
    {
      "cell_type": "code",
      "source": [
        "\n",
        "# Import virtual disk drive\n",
        "from google.colab import drive\n",
        " # Mount Drive\n",
        "drive.mount('/content/mydata')"
      ],
      "metadata": {
        "colab": {
          "base_uri": "https://localhost:8080/"
        },
        "id": "DdiIEjsr8utB",
        "outputId": "08786766-ad8d-4014-a4d1-f45c0b844233"
      },
      "id": "DdiIEjsr8utB",
      "execution_count": null,
      "outputs": [
        {
          "output_type": "stream",
          "name": "stdout",
          "text": [
            "Mounted at /content/mydata\n"
          ]
        }
      ]
    },
    {
      "cell_type": "code",
      "source": [
        "# Set path to your to your exiting file folder \"MTRL 361\" located on google drive (this allows you to avoid typing the full path each time)\n",
        "path = '/content/mydata/MyDrive/MTRL_361/'"
      ],
      "metadata": {
        "id": "JljItvhc9JeD"
      },
      "id": "JljItvhc9JeD",
      "execution_count": null,
      "outputs": []
    },
    {
      "cell_type": "code",
      "source": [
        "from locale import T_FMT_AMPM\n",
        "# Layer 1 - Assignment 4 1D FDM Transient Heat Condution Explicit Formulation\n",
        "# Dirichlet Condition\n",
        "\n",
        "import numpy as np\n",
        "import matplotlib.pyplot as plt\n",
        "import matplotlib.animation as animation\n",
        "\n",
        "n_nodes = 40\n",
        "\n",
        "#Load nodal coordinate array and element connnectivities array\n",
        "\n",
        "ingot_thickness = 0.200\n",
        "x_node = np.linspace(0,0.200,n_nodes)\n",
        "dx=ingot_thickness/(n_nodes)\n",
        "\n",
        "#print(dx)\n",
        "#print (x_node)\n",
        "\n",
        "#Define Material Properties (temperature independent)\n",
        "\n",
        "Cp_steelNominal = 470 #J/kg/K\n",
        "k_steel = 35 #W/m/K\n",
        "rho_steel = 7840 #kg/m^2\n",
        "h_steel = 2000 #W/m^2/K\n",
        "dH_Ls = 250000 #J/Kg\n",
        "\n",
        "#Set Initial Condition and Dirchlet Boundary Condition\n",
        "\n",
        "T_cast_init = 1500 #C\n",
        "T_env = 153 #C\n",
        "\n",
        "T_liquidus = 1522 #C\n",
        "T_solidus = 1485 #C\n",
        "\n",
        "T_init_superheat = T_liquidus + 30 #C\n",
        "\n",
        "#Set time step and total time\n",
        "\n",
        "t_step = 0.25#s\n",
        "t_final = 300#s\n",
        "\n",
        "t_step_check = 1/2*dx**2*rho_steel*Cp_steelNominal/k_steel\n",
        "print('t_step check =', t_step_check,'s', 'Actual Timestep is =', t_step)\n",
        "\n",
        "#Calculate the Biot's number and Cpeff for use between T_solidus-T_liquidus\n",
        "\n",
        "B_i = h_steel*dx/k_steel #doesn't change\n",
        "\n",
        "Cp_eff = Cp_steelNominal + dH_Ls/(T_liquidus - T_solidus)\n",
        "\n",
        "#Initialize current time and future time Temperature Vectors to 0 to create the arrays\n",
        "\n",
        "T_t=np.zeros([n_nodes])\n",
        "T_tdt=np.zeros([n_nodes])\n",
        "\n",
        "#Make matrices\n",
        "\n",
        "A = np.zeros([n_nodes, n_nodes])\n",
        "B = np.zeros([n_nodes])\n",
        "\n",
        "# Initialize the intial temperature array to the initial temperature T_init_superheat\n",
        "\n",
        "for i in range(n_nodes):\n",
        "  T_t[i] = T_init_superheat\n",
        "\n",
        "#End Initialization loop\n",
        "\n",
        "t_total = 0\n",
        "\n",
        "# Enter time Integration Loop\n",
        "#k_n = 0\n",
        "while t_total<=t_final:\n",
        "\n",
        "\n",
        "# Enter do loop for processing all nodes from LHS of domain x = 0 t0 RHS at x = 0.2m\n",
        "  for i in range(n_nodes):\n",
        "\n",
        "#Fourier is no longer constant\n",
        "\n",
        "    if T_t[i] >= T_liquidus or T_t[i] <= T_solidus:\n",
        "      #Cp_steel = Cp_steelNominal\n",
        "      F_0n = k_steel*t_step/(dx**2)/rho_steel/Cp_steelNominal #move F0 into loop, dep on temp based on cp. If T is outside of range liquidus to solidus, use nominal cp\n",
        "\n",
        "    elif T_solidus< T_t[i] and T_t[i] < T_liquidus:\n",
        "      #Cp_steel = Cp_eff\n",
        "      F_0n = k_steel*t_step/(dx**2)/rho_steel/Cp_eff #move into loop, dep on temp based on cp\n",
        "\n",
        "    if i<(n_nodes-1):\n",
        "#Vector\n",
        "      B[i] = T_t[i]\n",
        "\n",
        "    if i==(n_nodes-1):\n",
        "      B[i] = T_t[i]+2*F_0n*B_i*T_env\n",
        "\n",
        "    for j in range(n_nodes):\n",
        "\n",
        "#First row\n",
        "      if i==0 and j==0:\n",
        "        A[i,j] = (2*F_0n+1)\n",
        "      if i==0 and j==1:\n",
        "        A[i,j] = -2*F_0n\n",
        "\n",
        "# All interior nodes\n",
        "      elif i>0 and i<(n_nodes-1) and j==i:\n",
        "        A[i,j-1] = -F_0n\n",
        "        A[i,j] = (1+2*F_0n)\n",
        "        A[i,j+1] = -F_0n\n",
        "\n",
        "#External boundary node\n",
        "    if i==n_nodes-1 and j==(n_nodes-1):\n",
        "      A[i,j-1] = -2*F_0n\n",
        "      A[i,j] = (1+2*F_0n*(1+B_i))\n",
        "\n",
        "#End loop for processing all node\n",
        "\n",
        "#Solve System of Equations for temperature at future timestep (T_tdt) in Python\n",
        "  T_tdt = np.linalg.solve(A,B)\n",
        "\n",
        "#Print out quantities at current t_step\n",
        "  T_t = T_tdt\n",
        "\n",
        "#update total time and temperature\n",
        "  t_total += t_step\n",
        "\n",
        "# Output array containing T and x data for graphing in Excel\n",
        "\n",
        "# if divisible by 30 (with no remainder) then output frame this yields and output every 30S\n",
        "# change to smaller number to output more frequently\n",
        "  if t_total%41.5 == 0:\n",
        "    np.savetxt(path+'time_' + str(t_total) + '.csv',np.array([x_node,T_t]).T, delimiter=',', header='x,T', comments='')\n",
        "\n",
        "\n",
        "\n",
        "# print( t_total,',', T_t[0],',',x_node[0],',',T_t[10],',',x_node[10],',',T_t[18],',',x_node[18].T)\n",
        "print(\"Ceff =\", Cp_eff)\n",
        "# End time integration loop"
      ],
      "metadata": {
        "colab": {
          "base_uri": "https://localhost:8080/"
        },
        "id": "dup3ff-ginkr",
        "outputId": "a7be0b5e-4f3f-4d0c-d812-f7a228cc86d6"
      },
      "id": "dup3ff-ginkr",
      "execution_count": null,
      "outputs": [
        {
          "output_type": "stream",
          "name": "stdout",
          "text": [
            "t_step check = 1.316 s Actual Timestep is = 0.25\n",
            "Ceff = 7226.756756756757\n"
          ]
        }
      ]
    }
  ],
  "metadata": {
    "kernelspec": {
      "display_name": "Python 3 (ipykernel)",
      "language": "python",
      "name": "python3"
    },
    "language_info": {
      "codemirror_mode": {
        "name": "ipython",
        "version": 3
      },
      "file_extension": ".py",
      "mimetype": "text/x-python",
      "name": "python",
      "nbconvert_exporter": "python",
      "pygments_lexer": "ipython3",
      "version": "3.8.10"
    },
    "colab": {
      "provenance": []
    }
  },
  "nbformat": 4,
  "nbformat_minor": 5
}